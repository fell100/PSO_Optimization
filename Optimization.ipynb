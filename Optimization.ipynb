{
 "cells": [
  {
   "cell_type": "code",
   "execution_count": 408,
   "metadata": {},
   "outputs": [],
   "source": [
    "import pickle\n",
    "from sklearn.neighbors import KNeighborsClassifier\n",
    "from sklearn.metrics import accuracy_score, confusion_matrix, classification_report\n",
    "from yellowbrick.classifier import ConfusionMatrix\n",
    "import numpy as np\n",
    "from tqdm.notebook import tqdm as tqdm\n",
    "import matplotlib.pyplot as plt"
   ]
  },
  {
   "cell_type": "code",
   "execution_count": 409,
   "metadata": {},
   "outputs": [],
   "source": [
    "import pickle\n",
    "with open('credit.pkl', 'rb') as f:\n",
    "    x_credit_train, x_credit_test, y_credit_train, y_credit_test = pickle.load(f)"
   ]
  },
  {
   "cell_type": "code",
   "execution_count": 410,
   "metadata": {},
   "outputs": [
    {
     "data": {
      "text/html": [
       "<style>#sk-container-id-9 {color: black;background-color: white;}#sk-container-id-9 pre{padding: 0;}#sk-container-id-9 div.sk-toggleable {background-color: white;}#sk-container-id-9 label.sk-toggleable__label {cursor: pointer;display: block;width: 100%;margin-bottom: 0;padding: 0.3em;box-sizing: border-box;text-align: center;}#sk-container-id-9 label.sk-toggleable__label-arrow:before {content: \"▸\";float: left;margin-right: 0.25em;color: #696969;}#sk-container-id-9 label.sk-toggleable__label-arrow:hover:before {color: black;}#sk-container-id-9 div.sk-estimator:hover label.sk-toggleable__label-arrow:before {color: black;}#sk-container-id-9 div.sk-toggleable__content {max-height: 0;max-width: 0;overflow: hidden;text-align: left;background-color: #f0f8ff;}#sk-container-id-9 div.sk-toggleable__content pre {margin: 0.2em;color: black;border-radius: 0.25em;background-color: #f0f8ff;}#sk-container-id-9 input.sk-toggleable__control:checked~div.sk-toggleable__content {max-height: 200px;max-width: 100%;overflow: auto;}#sk-container-id-9 input.sk-toggleable__control:checked~label.sk-toggleable__label-arrow:before {content: \"▾\";}#sk-container-id-9 div.sk-estimator input.sk-toggleable__control:checked~label.sk-toggleable__label {background-color: #d4ebff;}#sk-container-id-9 div.sk-label input.sk-toggleable__control:checked~label.sk-toggleable__label {background-color: #d4ebff;}#sk-container-id-9 input.sk-hidden--visually {border: 0;clip: rect(1px 1px 1px 1px);clip: rect(1px, 1px, 1px, 1px);height: 1px;margin: -1px;overflow: hidden;padding: 0;position: absolute;width: 1px;}#sk-container-id-9 div.sk-estimator {font-family: monospace;background-color: #f0f8ff;border: 1px dotted black;border-radius: 0.25em;box-sizing: border-box;margin-bottom: 0.5em;}#sk-container-id-9 div.sk-estimator:hover {background-color: #d4ebff;}#sk-container-id-9 div.sk-parallel-item::after {content: \"\";width: 100%;border-bottom: 1px solid gray;flex-grow: 1;}#sk-container-id-9 div.sk-label:hover label.sk-toggleable__label {background-color: #d4ebff;}#sk-container-id-9 div.sk-serial::before {content: \"\";position: absolute;border-left: 1px solid gray;box-sizing: border-box;top: 0;bottom: 0;left: 50%;z-index: 0;}#sk-container-id-9 div.sk-serial {display: flex;flex-direction: column;align-items: center;background-color: white;padding-right: 0.2em;padding-left: 0.2em;position: relative;}#sk-container-id-9 div.sk-item {position: relative;z-index: 1;}#sk-container-id-9 div.sk-parallel {display: flex;align-items: stretch;justify-content: center;background-color: white;position: relative;}#sk-container-id-9 div.sk-item::before, #sk-container-id-9 div.sk-parallel-item::before {content: \"\";position: absolute;border-left: 1px solid gray;box-sizing: border-box;top: 0;bottom: 0;left: 50%;z-index: -1;}#sk-container-id-9 div.sk-parallel-item {display: flex;flex-direction: column;z-index: 1;position: relative;background-color: white;}#sk-container-id-9 div.sk-parallel-item:first-child::after {align-self: flex-end;width: 50%;}#sk-container-id-9 div.sk-parallel-item:last-child::after {align-self: flex-start;width: 50%;}#sk-container-id-9 div.sk-parallel-item:only-child::after {width: 0;}#sk-container-id-9 div.sk-dashed-wrapped {border: 1px dashed gray;margin: 0 0.4em 0.5em 0.4em;box-sizing: border-box;padding-bottom: 0.4em;background-color: white;}#sk-container-id-9 div.sk-label label {font-family: monospace;font-weight: bold;display: inline-block;line-height: 1.2em;}#sk-container-id-9 div.sk-label-container {text-align: center;}#sk-container-id-9 div.sk-container {/* jupyter's `normalize.less` sets `[hidden] { display: none; }` but bootstrap.min.css set `[hidden] { display: none !important; }` so we also need the `!important` here to be able to override the default hidden behavior on the sphinx rendered scikit-learn.org. See: https://github.com/scikit-learn/scikit-learn/issues/21755 */display: inline-block !important;position: relative;}#sk-container-id-9 div.sk-text-repr-fallback {display: none;}</style><div id=\"sk-container-id-9\" class=\"sk-top-container\"><div class=\"sk-text-repr-fallback\"><pre>KNeighborsClassifier()</pre><b>In a Jupyter environment, please rerun this cell to show the HTML representation or trust the notebook. <br />On GitHub, the HTML representation is unable to render, please try loading this page with nbviewer.org.</b></div><div class=\"sk-container\" hidden><div class=\"sk-item\"><div class=\"sk-estimator sk-toggleable\"><input class=\"sk-toggleable__control sk-hidden--visually\" id=\"sk-estimator-id-9\" type=\"checkbox\" checked><label for=\"sk-estimator-id-9\" class=\"sk-toggleable__label sk-toggleable__label-arrow\">KNeighborsClassifier</label><div class=\"sk-toggleable__content\"><pre>KNeighborsClassifier()</pre></div></div></div></div></div>"
      ],
      "text/plain": [
       "KNeighborsClassifier()"
      ]
     },
     "execution_count": 410,
     "metadata": {},
     "output_type": "execute_result"
    }
   ],
   "source": [
    "knn_credit = KNeighborsClassifier(n_neighbors = 5, metric = 'minkowski', p = 2)\n",
    "knn_credit.fit(x_credit_train, y_credit_train)"
   ]
  },
  {
   "cell_type": "code",
   "execution_count": 411,
   "metadata": {},
   "outputs": [
    {
     "data": {
      "text/plain": [
       "array([0, 0, 0, ..., 0, 0, 0], dtype=int64)"
      ]
     },
     "execution_count": 411,
     "metadata": {},
     "output_type": "execute_result"
    }
   ],
   "source": [
    "previsoes = knn_credit.predict(x_credit_test)\n",
    "previsoes"
   ]
  },
  {
   "cell_type": "code",
   "execution_count": 412,
   "metadata": {},
   "outputs": [
    {
     "data": {
      "text/plain": [
       "0.8157377854161552"
      ]
     },
     "execution_count": 412,
     "metadata": {},
     "output_type": "execute_result"
    }
   ],
   "source": [
    "accuracy_score(y_credit_test, previsoes)"
   ]
  },
  {
   "cell_type": "code",
   "execution_count": 413,
   "metadata": {},
   "outputs": [
    {
     "data": {
      "text/plain": [
       "0.8157377854161552"
      ]
     },
     "execution_count": 413,
     "metadata": {},
     "output_type": "execute_result"
    },
    {
     "data": {
      "image/png": "[encoded data removed]",
      "text/plain": [
       "<Figure size 576x396 with 1 Axes>"
      ]
     },
     "metadata": {},
     "output_type": "display_data"
    }
   ],
   "source": [
    "#   _________________________________\n",
    "#   |True Positive  | False Negative|\n",
    "#   |---------------|---------------|\n",
    "#   |False Positive | True Negative |\n",
    "#   ---------------------------------\n",
    "\n",
    "cm = ConfusionMatrix(knn_credit)\n",
    "cm.fit(x_credit_train, y_credit_train)\n",
    "cm.score(x_credit_test, y_credit_test)"
   ]
  },
  {
   "cell_type": "code",
   "execution_count": 414,
   "metadata": {},
   "outputs": [
    {
     "name": "stdout",
     "output_type": "stream",
     "text": [
      "              precision    recall  f1-score   support\n",
      "\n",
      "           0       0.86      0.92      0.89      6482\n",
      "           1       0.57      0.39      0.47      1664\n",
      "\n",
      "    accuracy                           0.82      8146\n",
      "   macro avg       0.71      0.66      0.68      8146\n",
      "weighted avg       0.80      0.82      0.80      8146\n",
      "\n"
     ]
    }
   ],
   "source": [
    "# Classification report:\n",
    "# Precision:\n",
    "# TP / (TP + FP)\n",
    "# Recall:\n",
    "# TP / (TP + FN)\n",
    "# F1-Score:\n",
    "# Harmonic mean of the recall (sensitivity)\n",
    "# 2TP / (2TP + FP + FN)\n",
    "\n",
    "print(classification_report(y_credit_test, previsoes))"
   ]
  },
  {
   "cell_type": "code",
   "execution_count": 415,
   "metadata": {},
   "outputs": [],
   "source": [
    "knn_credit = KNeighborsClassifier(n_neighbors = 5, metric = 'minkowski', p = 2)\n",
    "\n",
    "# n_neighbors --> int --> 0 ... n\n",
    "#       [1, 60]       \n",
    "\n",
    "# weights --> ['uniform', 'distance']\n",
    "#       [0, 1]\n",
    "\n",
    "# algorithm --> ['auto', 'ball_tree', 'kd_tree', 'brute']\n",
    "#       [0, 3]\n",
    "\n",
    "# if algorithm = BallTree or KDTree --> leaf_size --> int\n",
    "#       [1, 30]\n",
    "\n",
    "# metric -> ['euclidean', 'manhattan', 'chebyshev', 'minkowski', 'wminkowski', 'seuclidean', 'mahalanobis']\n",
    "#       [0, 6]\n",
    "\n",
    "# metric param \n",
    "# p     [2, n?]"
   ]
  },
  {
   "cell_type": "code",
   "execution_count": 416,
   "metadata": {},
   "outputs": [],
   "source": [
    "def score(argument_list):\n",
    "    for i in argument_list:\n",
    "        if i == None:\n",
    "            return 0\n",
    "        else: pass\n",
    "\n",
    "    argument_list = list(argument_list)[:6]\n",
    "    n_neighbors, weights, algorithm, leaf_size, metric, p = argument_list\n",
    "    my_knn = KNeighborsClassifier(n_neighbors = n_neighbors, weights = weights, algorithm = algorithm, leaf_size = leaf_size, metric = metric, p = p)\n",
    "    my_knn.fit(x_credit_train, y_credit_train)\n",
    "\n",
    "    return float( accuracy_score(y_credit_test, my_knn.predict(x_credit_test)) )"
   ]
  },
  {
   "cell_type": "code",
   "execution_count": 417,
   "metadata": {},
   "outputs": [],
   "source": [
    "def create_swarm(n):\n",
    "    best_particle_position = [None, None, None, None, None, None]\n",
    "\n",
    "    weights = ['uniform', 'distance']\n",
    "    algorithm = ['auto', 'brute']\n",
    "    metric = ['minkowski']\n",
    "    \n",
    "    swarm = []\n",
    "    for i in range(n):\n",
    "            #x, y, v\n",
    "        particle = {\n",
    "            'n_neighbors': np.random.randint(1,60),\n",
    "            'weights': weights[np.random.randint(0,1)],\n",
    "            'algorithm': algorithm[np.random.randint(0,1)],\n",
    "            'leaf_size': np.random.randint(1,50),\n",
    "            'metric': metric[0],\n",
    "            'p': np.random.randint(2, 10),\n",
    "            'v': 0,\n",
    "            'personal_best': [],\n",
    "            'last_n_neighbors': 0,\n",
    "            #melhor posição de informates (conjunto de particulas aleatorias selecionadas)\n",
    "            'informant_best': [None, None, None, None, None, None,]\n",
    "\n",
    "        }\n",
    "\n",
    "        particle['v'] = [(particle['n_neighbors'])]\n",
    "        particle['personal_best'] = [particle['n_neighbors'],\n",
    "                                    particle['weights'],\n",
    "                                    particle['algorithm'],\n",
    "                                    particle['leaf_size'], \n",
    "                                    particle['metric'],\n",
    "                                    particle['p'], \n",
    "                                    particle['v'] ]\n",
    "        \n",
    "        swarm.append(particle)\n",
    "    return swarm"
   ]
  },
  {
   "cell_type": "code",
   "execution_count": 418,
   "metadata": {},
   "outputs": [],
   "source": [
    "swarm = create_swarm(2)"
   ]
  },
  {
   "cell_type": "code",
   "execution_count": 419,
   "metadata": {},
   "outputs": [
    {
     "data": {
      "text/plain": [
       "[39, 'uniform', 'auto', 45, 'minkowski', 5, [39]]"
      ]
     },
     "execution_count": 419,
     "metadata": {},
     "output_type": "execute_result"
    }
   ],
   "source": [
    "swarm[1]['personal_best']"
   ]
  },
  {
   "cell_type": "code",
   "execution_count": 420,
   "metadata": {},
   "outputs": [
    {
     "data": {
      "text/plain": [
       "[0.8240854407070956, 0.8325558556346673]"
      ]
     },
     "execution_count": 420,
     "metadata": {},
     "output_type": "execute_result"
    }
   ],
   "source": [
    "scoreboard = []\n",
    "for particle in swarm:\n",
    "    scoreboard.append(score(particle.values()))\n",
    "\n",
    "scoreboard"
   ]
  },
  {
   "cell_type": "code",
   "execution_count": 421,
   "metadata": {},
   "outputs": [
    {
     "data": {
      "text/plain": [
       "[0.8325558556346673, 0.8240854407070956]"
      ]
     },
     "execution_count": 421,
     "metadata": {},
     "output_type": "execute_result"
    }
   ],
   "source": [
    "scoreboard.sort()\n",
    "scoreboard[::-1]"
   ]
  },
  {
   "cell_type": "code",
   "execution_count": 422,
   "metadata": {},
   "outputs": [],
   "source": [
    "def evaluate_best(particle1, particle2):\n",
    "\n",
    "    if type(particle1) == dict:\n",
    "        particle1 = particle1.values()\n",
    "\n",
    "    if type(particle2) == dict:\n",
    "        particle2 = particle2.values()\n",
    "\n",
    "    if score(particle1) > score(particle2):\n",
    "        #print('score1:', score(particle1))\n",
    "        return list(particle1)\n",
    "    else:\n",
    "        #print('score2:', score(particle2)) \n",
    "        return list(particle2)"
   ]
  },
  {
   "cell_type": "code",
   "execution_count": 423,
   "metadata": {},
   "outputs": [
    {
     "data": {
      "text/plain": [
       "[39,\n",
       " 'uniform',\n",
       " 'auto',\n",
       " 45,\n",
       " 'minkowski',\n",
       " 5,\n",
       " [39],\n",
       " [39, 'uniform', 'auto', 45, 'minkowski', 5, [39]],\n",
       " 0,\n",
       " [None, None, None, None, None, None]]"
      ]
     },
     "execution_count": 423,
     "metadata": {},
     "output_type": "execute_result"
    }
   ],
   "source": [
    "evaluate_best(swarm[0], swarm[1])"
   ]
  },
  {
   "cell_type": "code",
   "execution_count": 490,
   "metadata": {},
   "outputs": [
    {
     "data": {
      "application/vnd.jupyter.widget-view+json": {
       "model_id": "e967cbe6bf954a3aba1ec8ef6f61fd83",
       "version_major": 2,
       "version_minor": 0
      },
      "text/plain": [
       "  0%|          | 0/10 [00:00<?, ?Iteration/s]"
      ]
     },
     "metadata": {},
     "output_type": "display_data"
    },
    {
     "name": "stdout",
     "output_type": "stream",
     "text": [
      "----------------------------------------------------------------------------------------------------\n",
      "Iteration number: 1, particles are moving!\n",
      "The best Score Is: 0.8334151730910877\n",
      "The parameters are: [35, 'uniform', 'auto', 19, 'minkowski', 7, [35]]\n",
      "----------------------------------------------------------------------------------------------------\n",
      "----------------------------------------------------------------------------------------------------\n",
      "Iteration number: 2, particles are moving!\n",
      "The best Score Is: 0.8347655290940339\n",
      "The parameters are: [18, 'uniform', 'auto', 38, 'minkowski', 3, [18.124785769895624]]\n",
      "----------------------------------------------------------------------------------------------------\n",
      "----------------------------------------------------------------------------------------------------\n",
      "Iteration number: 3, particles are moving!\n",
      "The best Score Is: 0.836852442916769\n",
      "The parameters are: [25, 'uniform', 'auto', 38, 'minkowski', 3, [19.978247427643314]]\n",
      "----------------------------------------------------------------------------------------------------\n",
      "----------------------------------------------------------------------------------------------------\n",
      "Iteration number: 4, particles are moving!\n",
      "The best Score Is: 0.836852442916769\n",
      "The parameters are: [25, 'uniform', 'auto', 38, 'minkowski', 3, [19.978247427643314]]\n",
      "----------------------------------------------------------------------------------------------------\n",
      "----------------------------------------------------------------------------------------------------\n",
      "Iteration number: 5, particles are moving!\n",
      "The best Score Is: 0.836852442916769\n",
      "The parameters are: [25, 'uniform', 'auto', 38, 'minkowski', 3, [19.978247427643314]]\n",
      "----------------------------------------------------------------------------------------------------\n",
      "----------------------------------------------------------------------------------------------------\n",
      "Iteration number: 6, particles are moving!\n",
      "The best Score Is: 0.836852442916769\n",
      "The parameters are: [25, 'uniform', 'auto', 38, 'minkowski', 3, [19.978247427643314]]\n",
      "----------------------------------------------------------------------------------------------------\n",
      "----------------------------------------------------------------------------------------------------\n",
      "Iteration number: 7, particles are moving!\n",
      "The best Score Is: 0.836852442916769\n",
      "The parameters are: [25, 'uniform', 'auto', 38, 'minkowski', 3, [19.978247427643314]]\n",
      "----------------------------------------------------------------------------------------------------\n",
      "----------------------------------------------------------------------------------------------------\n",
      "Iteration number: 8, particles are moving!\n",
      "The best Score Is: 0.836852442916769\n",
      "The parameters are: [25, 'uniform', 'auto', 38, 'minkowski', 3, [19.978247427643314]]\n",
      "----------------------------------------------------------------------------------------------------\n",
      "----------------------------------------------------------------------------------------------------\n",
      "Iteration number: 9, particles are moving!\n",
      "The best Score Is: 0.836852442916769\n",
      "The parameters are: [25, 'uniform', 'auto', 38, 'minkowski', 3, [19.978247427643314]]\n",
      "----------------------------------------------------------------------------------------------------\n",
      "----------------------------------------------------------------------------------------------------\n",
      "Iteration number: 10, particles are moving!\n",
      "The best Score Is: 0.836852442916769\n",
      "The parameters are: [25, 'uniform', 'auto', 38, 'minkowski', 3, [19.978247427643314]]\n",
      "----------------------------------------------------------------------------------------------------\n"
     ]
    }
   ],
   "source": [
    "swarm_length = 4\n",
    "speed_proportion = 0.9\n",
    "particle_information_num = 3\n",
    "best_personal_proportion = 0.7\n",
    "best_information_proportion = 0.8\n",
    "best_particle_proportion = 0.9\n",
    "speed_factor = 0.075 * 5\n",
    "num_iterations = 10\n",
    "\n",
    "swarm = create_swarm(swarm_length)\n",
    "\n",
    "best_particle_position = [None, None, None, None, None, None]\n",
    "\n",
    "iteration_track_best = []\n",
    "\n",
    "for iteration in tqdm(range(num_iterations),unit=\"Iteration\"):\n",
    "\n",
    "    for particle in swarm:\n",
    "\n",
    "        #Evaluate best particle\n",
    "        best_particle_position = evaluate_best(particle, best_particle_position)\n",
    "        \n",
    "    iteration_track_best.append(best_particle_position)\n",
    "    for particle in swarm:\n",
    "\n",
    "        #evaluate informant best\n",
    "        \n",
    "        if None in particle['informant_best']:\n",
    "            for inform_part in range(len(particle['informant_best'])):\n",
    "                particle['informant_best'][inform_part] = particle['personal_best'][inform_part]\n",
    "\n",
    "        else:\n",
    "            information_list = []\n",
    "            \n",
    "            for j in range(particle_information_num):\n",
    "\n",
    "                information_list.append(swarm[np.random.randint(0, swarm_length)]['personal_best'])\n",
    "            \n",
    "            info_best = information_list[0]\n",
    "            for k in information_list:\n",
    "                #print(f'K: {k}')\n",
    "                #print(f'info best: {info_best}')\n",
    "                info_best = evaluate_best(k, info_best)\n",
    "\n",
    "            particle['informant_best'] = info_best\n",
    "        \n",
    "        #MOVE THE PARTICLE!!!!\n",
    "        last_particle = [particle['n_neighbors'],\n",
    "                        particle['weights'],\n",
    "                        particle['algorithm'],\n",
    "                        particle['leaf_size'], \n",
    "                        particle['metric'],\n",
    "                        particle['p'], \n",
    "                        particle['v'] ]\n",
    "\n",
    "        b = np.random.rand() * best_personal_proportion\n",
    "        c = np.random.rand() * best_information_proportion\n",
    "        d = np.random.rand() * best_particle_proportion\n",
    "\n",
    "        inertia = (speed_proportion * particle['v'][0])\n",
    "        #print(f'Inertia part: {inertia}')\n",
    "        personal = (b * (particle['personal_best'][0] - particle['n_neighbors']))\n",
    "        #print(f'personal part: {personal}')\n",
    "        informant = (c * (particle['informant_best'][0] - particle['n_neighbors']))\n",
    "        #print(f'informat part: {informant}')\n",
    "        best = (d * (best_particle_position[0] - particle['n_neighbors']))\n",
    "        #print(f'best part: {best}')\n",
    "        v_n_neighbors = inertia + personal + informant + best\n",
    "       \n",
    "\n",
    "        particle['v'] = [v_n_neighbors]\n",
    "\n",
    "        n_calc = abs(int(np.floor(particle['n_neighbors'] + (speed_factor * particle['v'][0]))))\n",
    "        if n_calc == 0:\n",
    "            particle['n_neighbors'] = 2\n",
    "        else:\n",
    "           particle['n_neighbors'] = n_calc \n",
    "        #print(f'Last Particle: {last_particle}')\n",
    "        #print('-' * 100)\n",
    "        #print(f'Actual particle: : {particle}')\n",
    "        #print('-' * 100)\n",
    "        particle['personal_best'] = evaluate_best(last_particle, particle)\n",
    "        #x = particle['personal_best']\n",
    "        #print(f'Personal best: {x}')\n",
    "        #print('-' * 100)\n",
    "        best_particle_position = best_particle_position[:7]\n",
    "    print('-' * 100)\n",
    "    print(f'Iteration number: {iteration + 1}, particles are moving!')\n",
    "    print(f'The best Score Is: {score(best_particle_position)}')\n",
    "    print(f'The parameters are: {best_particle_position[:7]}')\n",
    "    print('-' * 100)\n",
    "        \n"
   ]
  },
  {
   "cell_type": "code",
   "execution_count": 491,
   "metadata": {},
   "outputs": [
    {
     "data": {
      "image/png": "[encoded data removed]",
      "text/plain": [
       "<Figure size 576x396 with 1 Axes>"
      ]
     },
     "metadata": {},
     "output_type": "display_data"
    }
   ],
   "source": [
    "plt.plot([i[0] for i in iteration_track_best]);"
   ]
  },
  {
   "cell_type": "code",
   "execution_count": 492,
   "metadata": {},
   "outputs": [
    {
     "name": "stdout",
     "output_type": "stream",
     "text": [
      "Best position: [25, 'uniform', 'auto', 38, 'minkowski', 3, [19.978247427643314]]\n"
     ]
    }
   ],
   "source": [
    "print(f'Best position: {best_particle_position}')"
   ]
  },
  {
   "cell_type": "code",
   "execution_count": 493,
   "metadata": {},
   "outputs": [
    {
     "name": "stdout",
     "output_type": "stream",
     "text": [
      "Best Score: 0.836852442916769\n"
     ]
    }
   ],
   "source": [
    "best_score = score(best_particle_position)\n",
    "print(f'Best Score: {best_score}')"
   ]
  },
  {
   "cell_type": "code",
   "execution_count": 494,
   "metadata": {},
   "outputs": [
    {
     "data": {
      "image/png": "[encoded data removed]",
      "text/plain": [
       "<Figure size 576x396 with 1 Axes>"
      ]
     },
     "metadata": {},
     "output_type": "display_data"
    }
   ],
   "source": [
    "score_tracker = []\n",
    "\n",
    "for track in iteration_track_best:\n",
    "    score_tracker.append(score(track))\n",
    "plt.plot(score_tracker);"
   ]
  },
  {
   "cell_type": "code",
   "execution_count": 495,
   "metadata": {},
   "outputs": [
    {
     "name": "stdout",
     "output_type": "stream",
     "text": [
      "0.412% score improve\n",
      "From: 0.8334151730910877\n",
      "To:   0.836852442916769\n"
     ]
    }
   ],
   "source": [
    "print(f'{(\"{0:.3f}\".format(((score_tracker[-1] / score_tracker[0] ) - 1 ) * 100))}% score improve')\n",
    "print(f'From: {score_tracker[0]}\\nTo:   {score_tracker[-1]}')"
   ]
  },
  {
   "cell_type": "code",
   "execution_count": 496,
   "metadata": {},
   "outputs": [],
   "source": [
    "#TODO add \"P\" and optimize with it\n",
    "#compare with gridsearch (we won it)"
   ]
  }
 ],
 "metadata": {
  "interpreter": {
   "hash": "ad2bdc8ecc057115af97d19610ffacc2b4e99fae6737bb82f5d7fb13d2f2c186"
  },
  "kernelspec": {
   "display_name": "Python 3.9.7 ('base')",
   "language": "python",
   "name": "python3"
  },
  "language_info": {
   "codemirror_mode": {
    "name": "ipython",
    "version": 3
   },
   "file_extension": ".py",
   "mimetype": "text/x-python",
   "name": "python",
   "nbconvert_exporter": "python",
   "pygments_lexer": "ipython3",
   "version": "3.9.7"
  },
  "orig_nbformat": 4
 },
 "nbformat": 4,
 "nbformat_minor": 2
}
